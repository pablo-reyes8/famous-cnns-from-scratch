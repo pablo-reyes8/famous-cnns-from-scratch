{
 "cells": [
  {
   "cell_type": "code",
   "execution_count": null,
   "metadata": {},
   "outputs": [],
   "source": [
    "from load_data import * \n",
    "from model import * \n",
    "from testing_utils import * \n",
    "from train_utils import *"
   ]
  },
  {
   "cell_type": "markdown",
   "metadata": {},
   "source": [
    "## Load Data"
   ]
  },
  {
   "cell_type": "code",
   "execution_count": null,
   "metadata": {},
   "outputs": [],
   "source": [
    "\n",
    "loaders = create_pets_loaders(\n",
    "    root=\"./data\",\n",
    "    img_size=(256,256),\n",
    "    batch_size=12,\n",
    "    num_workers=0,\n",
    "    binary=True,\n",
    "    augment=True,\n",
    "    val_split=0.15)\n",
    "\n",
    "for imgs, masks in loaders[\"train\"]:\n",
    "    print(imgs.shape, masks.shape)\n",
    "    break\n"
   ]
  },
  {
   "cell_type": "markdown",
   "metadata": {},
   "source": [
    "## Create Model"
   ]
  },
  {
   "cell_type": "code",
   "execution_count": null,
   "metadata": {},
   "outputs": [],
   "source": [
    "import torch.optim as optim\n",
    "\n",
    "device = torch.device('cuda' if torch.cuda.is_available() else 'cpu')\n",
    "model = UNet(in_channels=3, num_classes=1).to(device)\n",
    "opt = optim.Adam(model.parameters(), lr=1e-3)\n",
    "criterion = nn.BCEWithLogitsLoss()\n"
   ]
  },
  {
   "cell_type": "markdown",
   "metadata": {},
   "source": [
    "## Train Model"
   ]
  },
  {
   "cell_type": "code",
   "execution_count": null,
   "metadata": {},
   "outputs": [],
   "source": [
    "epochs = 30\n",
    "\n",
    "for epoch in range(epochs):\n",
    "    print(f\"\\nEpoch {epoch+1}/{epochs}\")\n",
    "    train_metrics = train_epoch_seg(loaders['train'], model, opt, criterion, num_classes=1, device=device, amp=True)\n",
    "    val_metrics = evaluate_seg(loaders['val'], model, criterion, num_classes=1, device=device)"
   ]
  },
  {
   "cell_type": "markdown",
   "metadata": {},
   "source": [
    "## Test Model"
   ]
  },
  {
   "cell_type": "code",
   "execution_count": null,
   "metadata": {},
   "outputs": [],
   "source": [
    "clear_all_hooks(model)"
   ]
  },
  {
   "cell_type": "code",
   "execution_count": null,
   "metadata": {},
   "outputs": [],
   "source": [
    "model.eval()\n",
    "with torch.no_grad():\n",
    "    xb, yb = next(iter(loaders['val']))\n",
    "    xb1, yb1 = xb[:1].to(device), yb[:1].to(device)\n",
    "    out = model(xb1)\n",
    "\n",
    "imagenet_mean = (0.485, 0.456, 0.406)\n",
    "imagenet_std  = (0.229, 0.224, 0.225)\n",
    "\n",
    "viz_overlay_errors(xb1, out, yb1, thr=0.5, mean=imagenet_mean, std=imagenet_std)"
   ]
  },
  {
   "cell_type": "code",
   "execution_count": null,
   "metadata": {},
   "outputs": [],
   "source": [
    "model.eval()\n",
    "with torch.no_grad():\n",
    "    xb, yb = next(iter(loaders['val']))\n",
    "    xb, yb = xb.to(device), yb.to(device)\n",
    "    logits = model(xb)\n",
    "plot_pr_roc_from_logits(logits, yb)"
   ]
  },
  {
   "cell_type": "code",
   "execution_count": null,
   "metadata": {},
   "outputs": [],
   "source": [
    "model.eval()\n",
    "all_dice, all_iou = [], []\n",
    "with torch.no_grad():\n",
    "    for xb, yb in loaders['val']:\n",
    "        xb, yb = xb.to(device), yb.to(device)\n",
    "        logits = model(xb)\n",
    "        all_dice.extend(dice_per_image_from_logits(logits, yb))\n",
    "        all_iou.extend(iou_per_image_from_logits(logits, yb))\n",
    "plot_hist_metrics(np.array(all_dice), np.array(all_iou))"
   ]
  },
  {
   "cell_type": "code",
   "execution_count": null,
   "metadata": {},
   "outputs": [],
   "source": [
    "with torch.no_grad():\n",
    "    xb, yb = next(iter(loaders['val']))\n",
    "    xb, yb = xb.to(device), yb.to(device)\n",
    "    logits = model(xb)\n",
    "calibration_curve_pixels(logits, yb)"
   ]
  },
  {
   "cell_type": "code",
   "execution_count": null,
   "metadata": {},
   "outputs": [],
   "source": [
    "model.eval()\n",
    "with torch.no_grad():\n",
    "    xb, yb = next(iter(loaders['val']))\n",
    "    xb = xb[:2].to(device)\n",
    "\n",
    "# Si normalizaste con ImageNet (cámbialo si usaste otros stats)\n",
    "imagenet_mean = (0.485, 0.456, 0.406)\n",
    "imagenet_std  = (0.229, 0.224, 0.225)\n",
    "\n",
    "mean, var = mc_dropout_predict(model, xb, T=20, num_classes=1)\n",
    "plot_uncertainty(xb.cpu(), mean.cpu(), var.cpu(), idx=0, mean_std=(imagenet_mean, imagenet_std))"
   ]
  },
  {
   "cell_type": "code",
   "execution_count": null,
   "metadata": {},
   "outputs": [],
   "source": [
    "xb, _ = next(iter(loaders['val']))\n",
    "xb1 = xb[:1].to(device)\n",
    "# ejemplo: una capa concreta de tu modelo\n",
    "visualize_feature_maps(model, layer=model.enc[0], xb=xb1, num_maps=12)"
   ]
  },
  {
   "cell_type": "code",
   "execution_count": null,
   "metadata": {},
   "outputs": [],
   "source": [
    "hook_layer = model.bottleneck if hasattr(model, \"bottleneck\") else list(model.modules())[-2]\n",
    "X, Y = collect_bottleneck(model, loaders['val'], device, hook_layer)\n",
    "plot_embedding_2d(X, Y=None, method=\"umap\")"
   ]
  },
  {
   "cell_type": "code",
   "execution_count": null,
   "metadata": {},
   "outputs": [],
   "source": [
    "with torch.no_grad():\n",
    "    xb, yb = next(iter(loaders['val']))\n",
    "    xb1, yb1 = xb[:1].to(device), yb[:1].to(device)\n",
    "    logits = model(xb1)\n",
    "prob = torch.sigmoid(logits)[0,0].cpu().numpy()\n",
    "pred = (prob>0.5).astype(np.uint8)\n",
    "\n",
    "gt = yb1[0]\n",
    "if gt.dim()==3: gt = gt[0]\n",
    "gt = gt.cpu().numpy().astype(np.uint8)\n",
    "\n",
    "bf1, bprec, brec = boundary_f1(pred, gt, tol=2)\n",
    "hd = hausdorff_distance(pred, gt)\n",
    "print(\"Boundary-F1:\", bf1, \"Hausdorff:\", hd)"
   ]
  },
  {
   "cell_type": "code",
   "execution_count": null,
   "metadata": {},
   "outputs": [],
   "source": [
    "with torch.no_grad():\n",
    "    xb, yb = next(iter(loaders['val']))\n",
    "heat = occlusion_sensitivity(model, xb[:1], yb[:1], patch=24, stride=12, device=device)"
   ]
  },
  {
   "cell_type": "markdown",
   "metadata": {},
   "source": [
    "## Pablo \n"
   ]
  }
 ],
 "metadata": {
  "kernelspec": {
   "display_name": "Python 3",
   "language": "python",
   "name": "python3"
  },
  "language_info": {
   "name": "python",
   "version": "3.11.13"
  }
 },
 "nbformat": 4,
 "nbformat_minor": 2
}
